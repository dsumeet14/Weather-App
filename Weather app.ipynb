{
 "cells": [
  {
   "cell_type": "code",
   "execution_count": 1,
   "id": "09440345",
   "metadata": {},
   "outputs": [],
   "source": [
    "import tkinter as tk\n",
    "import requests\n",
    "\n",
    "# Replace YOUR_API_KEY with your actual API key\n",
    "API_KEY = \"zGuJr9L6jrwnE5663uIJEg2eQngztf0d\"\n",
    "\n",
    "# Create the main window\n",
    "window = tk.Tk()\n",
    "window.title(\"Weather App\")\n",
    "\n",
    "# Create a function to get the weather for a given location\n",
    "def get_weather():\n",
    "  # Get the location from the user\n",
    "  location = location_entry.get()\n",
    "\n",
    "  # Make the API request\n",
    "  response = requests.get(f\"http://dataservice.accuweather.com/locations/v1/cities/search?apikey={API_KEY}&q={location}\")\n",
    "\n",
    "  # Check for errors\n",
    "  if response.status_code != 200:\n",
    "    output_label[\"text\"] = \"Error: Location not found\"\n",
    "    return\n",
    "\n",
    "  # Parse the JSON data\n",
    "  data = response.json()\n",
    "\n",
    "  # Get the location key for the first result\n",
    "  location_key = data[0][\"Key\"]\n",
    "\n",
    "  # Make a request for the current weather for the location\n",
    "  weather_response = requests.get(f\"http://dataservice.accuweather.com/currentconditions/v1/{location_key}?apikey={API_KEY}\")\n",
    "  weather_data = weather_response.json()\n",
    "\n",
    "  # Get the weather description and temperature\n",
    "  description = weather_data[0][\"WeatherText\"]\n",
    "  temp = weather_data[0][\"Temperature\"][\"Metric\"][\"Value\"]\n",
    "  output_label[\"text\"] = f\"The weather in {location} is {description} and the temperature is {temp}°C\"\n",
    "\n",
    "# Create the input and output widgets\n",
    "location_label = tk.Label(text=\"Location:\")\n",
    "location_entry = tk.Entry()\n",
    "output_label = tk.Label(text=\"\")\n",
    "\n",
    "# Create the button to get the weather\n",
    "get_weather_button = tk.Button(text=\"Get Weather\", command=get_weather)\n",
    "\n",
    "# Lay out the widgets\n",
    "location_label.grid(row=0, column=0)\n",
    "location_entry.grid(row=0, column=1)\n",
    "get_weather_button.grid(row=0, column=2)\n",
    "output_label.grid(row=1, column=0, columnspan=3)\n",
    "\n",
    "# Run the main loop\n",
    "window.mainloop()\n"
   ]
  },
  {
   "cell_type": "code",
   "execution_count": null,
   "id": "447e4e06",
   "metadata": {},
   "outputs": [],
   "source": []
  }
 ],
 "metadata": {
  "kernelspec": {
   "display_name": "Python 3 (ipykernel)",
   "language": "python",
   "name": "python3"
  },
  "language_info": {
   "codemirror_mode": {
    "name": "ipython",
    "version": 3
   },
   "file_extension": ".py",
   "mimetype": "text/x-python",
   "name": "python",
   "nbconvert_exporter": "python",
   "pygments_lexer": "ipython3",
   "version": "3.9.12"
  }
 },
 "nbformat": 4,
 "nbformat_minor": 5
}
